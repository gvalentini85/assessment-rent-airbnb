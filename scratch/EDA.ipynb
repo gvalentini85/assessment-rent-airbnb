{
 "cells": [
  {
   "cell_type": "markdown",
   "metadata": {
    "application/vnd.databricks.v1+cell": {
     "cellMetadata": {},
     "inputWidgets": {},
     "nuid": "b4fcbfb2-e25c-4efb-8ad7-3e123ef35ba3",
     "showTitle": false,
     "title": ""
    }
   },
   "source": [
    "\n",
    "# Install requirements"
   ]
  },
  {
   "cell_type": "code",
   "execution_count": 0,
   "metadata": {
    "application/vnd.databricks.v1+cell": {
     "cellMetadata": {
      "byteLimit": 2048000,
      "rowLimit": 10000
     },
     "inputWidgets": {},
     "nuid": "de0f2fb5-ba44-4adc-acb0-b06ce7737b93",
     "showTitle": false,
     "title": ""
    }
   },
   "outputs": [],
   "source": [
    "%sh rm -rf ~/projects/revodataassignment &&\n",
    "    git clone --single-branch --branch setup-repo https://github.com/gvalentini85/assessment-rent-airbnb.git ~/projects/revodataassignment &&\n",
    "    cd ~/projects/revodataassignment &&\n",
    "    python -m pip install --upgrade pip &&\n",
    "    pip install -r requirements.txt &&\n",
    "    python setup.py sdist &&\n",
    "    pip install dist/revo-0.0.1.tar.gz &&\n",
    "    cd data/ &&\n",
    "    unzip airbnb.zip &&\n",
    "    unzip rentals.zip &&\n",
    "    unzip geo/post_codes.zip &&\n",
    "    cp airbnb.csv rentals.json post_codes.geojson /databricks/driver/"
   ]
  },
  {
   "cell_type": "markdown",
   "metadata": {
    "application/vnd.databricks.v1+cell": {
     "cellMetadata": {},
     "inputWidgets": {},
     "nuid": "0f3c654f-c948-412d-a2f3-4111e0db9a1b",
     "showTitle": false,
     "title": ""
    }
   },
   "source": [
    "\n",
    "# Load data"
   ]
  },
  {
   "cell_type": "code",
   "execution_count": 0,
   "metadata": {
    "application/vnd.databricks.v1+cell": {
     "cellMetadata": {
      "byteLimit": 2048000,
      "rowLimit": 10000
     },
     "inputWidgets": {},
     "nuid": "568016ab-d2cd-40fa-8eac-1e574396b5de",
     "showTitle": false,
     "title": ""
    }
   },
   "outputs": [],
   "source": [
    "import os\n",
    "from revo.data_loader import DataLoader\n",
    "from revo.data_processor import DataProcessor\n",
    "\n",
    "# Load bronze layer\n",
    "dl_airbnb = DataLoader(f\"file:{os.getcwd()}/airbnb.csv\")\n",
    "dl_rentals = DataLoader(f\"file:{os.getcwd()}/rentals.json\")\n",
    "dl_post_codes = DataLoader(f\"file:{os.getcwd()}/post_codes.geojson\")\n",
    "\n",
    "df_airbnb_bronze = dl_airbnb.load_data()\n",
    "df_rentals_bronze = dl_rentals.load_data()\n",
    "df_post_codes_bronze = dl_post_codes.load_data()\n",
    "\n",
    "# Load silver layer\n",
    "dp = DataProcessor(airbnb_occupancy_rate=0.7)\n",
    "\n",
    "post_codes_silver, amsterdam_codes = dp.clean_post_codes(df_post_codes_bronze)\n",
    "df_airbnb_silver = dp.clean_airbnb(df_airbnb_bronze, amsterdam_codes, post_codes_silver)\n",
    "df_rentals_silver = dp.clean_rentals(df_rentals_bronze, amsterdam_codes)\n",
    "\n",
    "df_airbnb = df_airbnb_silver.toPandas()\n",
    "df_rentals = df_rentals_silver.toPandas()"
   ]
  },
  {
   "cell_type": "markdown",
   "metadata": {
    "application/vnd.databricks.v1+cell": {
     "cellMetadata": {},
     "inputWidgets": {},
     "nuid": "a7596302-5fc0-4c03-be84-46fc6c9164f0",
     "showTitle": false,
     "title": ""
    }
   },
   "source": [
    "\n",
    "# EDA AirBnB data"
   ]
  },
  {
   "cell_type": "markdown",
   "metadata": {
    "application/vnd.databricks.v1+cell": {
     "cellMetadata": {},
     "inputWidgets": {},
     "nuid": "4fdd399a-e052-46d0-b615-c4f87bb391ad",
     "showTitle": false,
     "title": ""
    }
   },
   "source": [
    "Let's have a look at how our samples are distributed over zipcodes. "
   ]
  },
  {
   "cell_type": "code",
   "execution_count": 0,
   "metadata": {
    "application/vnd.databricks.v1+cell": {
     "cellMetadata": {
      "byteLimit": 2048000,
      "rowLimit": 10000
     },
     "inputWidgets": {},
     "nuid": "33d501ac-849c-4a50-8c3a-c370c6579d15",
     "showTitle": false,
     "title": ""
    }
   },
   "outputs": [],
   "source": [
    "import plotly.express as px\n",
    "\n",
    "\n",
    "df = df_airbnb.groupby(\"zipcode\").price.count().reset_index().rename(columns={\"price\": \"samples\"})\n",
    "fig = px.histogram(df, x=\"samples\", y=\"zipcode\", marginal=\"rug\", hover_data=df.columns)\n",
    "fig.show()"
   ]
  },
  {
   "cell_type": "markdown",
   "metadata": {
    "application/vnd.databricks.v1+cell": {
     "cellMetadata": {},
     "inputWidgets": {},
     "nuid": "40b81ebd-1761-4776-96fa-ca9923d9d46b",
     "showTitle": false,
     "title": ""
    }
   },
   "source": [
    "We can see that there are a some areas that are represented by very few samples (5 or less samples). For the moment, this is not yet a concern. Let's have a closer look at the distribution of prices for AirBnB data."
   ]
  },
  {
   "cell_type": "code",
   "execution_count": 0,
   "metadata": {
    "application/vnd.databricks.v1+cell": {
     "cellMetadata": {
      "byteLimit": 2048000,
      "rowLimit": 10000
     },
     "inputWidgets": {},
     "nuid": "59db4767-bf15-4fda-a4c9-186af5469d96",
     "showTitle": false,
     "title": ""
    }
   },
   "outputs": [],
   "source": [
    "fig = px.histogram(df_airbnb, x=\"price\", color=\"type\", marginal=\"rug\", hover_data=df_airbnb.columns)\n",
    "fig.show()"
   ]
  },
  {
   "cell_type": "markdown",
   "metadata": {
    "application/vnd.databricks.v1+cell": {
     "cellMetadata": {},
     "inputWidgets": {},
     "nuid": "15ccff77-b8cd-4ceb-8933-221d85b19a9c",
     "showTitle": false,
     "title": ""
    }
   },
   "source": [
    "We see there are some outliers in the plot, let's investigate they overall weight on the data"
   ]
  },
  {
   "cell_type": "code",
   "execution_count": 0,
   "metadata": {
    "application/vnd.databricks.v1+cell": {
     "cellMetadata": {
      "byteLimit": 2048000,
      "rowLimit": 10000
     },
     "inputWidgets": {},
     "nuid": "45ffe701-e2e5-4b8f-9cce-3a78ce0e1f13",
     "showTitle": false,
     "title": ""
    }
   },
   "outputs": [],
   "source": [
    "x = df_airbnb.price.mean()\n",
    "cond = df_airbnb.price < 5000\n",
    "y = df_airbnb[cond].price.mean()\n",
    "\n",
    "print(x, y)"
   ]
  },
  {
   "cell_type": "markdown",
   "metadata": {
    "application/vnd.databricks.v1+cell": {
     "cellMetadata": {},
     "inputWidgets": {},
     "nuid": "d2cece77-bbf7-47ab-a10e-a6debe004ebd",
     "showTitle": false,
     "title": ""
    }
   },
   "source": [
    "There doesn't seem to be a big difference if we exclude these points. Let's have a closer look at the prices as a function of zipcodes. "
   ]
  },
  {
   "cell_type": "code",
   "execution_count": 0,
   "metadata": {
    "application/vnd.databricks.v1+cell": {
     "cellMetadata": {
      "byteLimit": 2048000,
      "rowLimit": 10000
     },
     "inputWidgets": {},
     "nuid": "b1a4e84e-e92d-443b-9915-f5f6380d0e75",
     "showTitle": false,
     "title": ""
    }
   },
   "outputs": [],
   "source": [
    "from revo.data_visualization.plot_amsterdam import plot_amsterdam\n",
    "\n",
    "df = df_airbnb.groupby(\"zipcode\").price.mean().reset_index()\n",
    "plot_amsterdam(df, \"price\", post_codes_silver)"
   ]
  },
  {
   "cell_type": "markdown",
   "metadata": {
    "application/vnd.databricks.v1+cell": {
     "cellMetadata": {
      "byteLimit": 2048000,
      "rowLimit": 10000
     },
     "inputWidgets": {},
     "nuid": "805c3677-70f8-43c2-a82c-88ba7c20b9ce",
     "showTitle": false,
     "title": ""
    }
   },
   "source": [
    "We have found a few zipcodes with unusually higher prices with respect to nearby areas. 1028 and 1033 stick out in particular for the markedly higher prices. However, also zipcodes 1103, 1108, 1106, 1107, and 1101 are markedly higher than nearby zipcode 1102. All of these codes are represented by only few samples each and are likely to introduce quite some estimation error. To avoid this, let's frop all zipcodes represented by 5 of less samples. "
   ]
  },
  {
   "cell_type": "code",
   "execution_count": 0,
   "metadata": {
    "application/vnd.databricks.v1+cell": {
     "cellMetadata": {
      "byteLimit": 2048000,
      "rowLimit": 10000
     },
     "inputWidgets": {},
     "nuid": "ecad4a1b-ad9a-4215-b8c0-e35b28ebb3c0",
     "showTitle": false,
     "title": ""
    }
   },
   "outputs": [],
   "source": [
    "nsamples = df_airbnb.groupby(\"zipcode\").price.count().reset_index().rename(columns={\"price\": \"nsamples\"})\n",
    "keep_zipcodes = nsamples[nsamples[\"nsamples\"] > 5].zipcode\n",
    "\n",
    "cond = df_airbnb.zipcode.isin(keep_zipcodes) \n",
    "df = df_airbnb[cond].groupby(\"zipcode\").price.mean().reset_index()\n",
    "plot_amsterdam(df, \"price\", post_codes_silver)"
   ]
  },
  {
   "cell_type": "markdown",
   "metadata": {
    "application/vnd.databricks.v1+cell": {
     "cellMetadata": {},
     "inputWidgets": {},
     "nuid": "13a33c58-490a-40f0-9de4-6a75a56e8ecf",
     "showTitle": false,
     "title": ""
    }
   },
   "source": [
    "After removing zipcodes represented by too few samples, only one area with markedly higher prices remains. Let's have a closer look. "
   ]
  },
  {
   "cell_type": "code",
   "execution_count": 0,
   "metadata": {
    "application/vnd.databricks.v1+cell": {
     "cellMetadata": {
      "byteLimit": 2048000,
      "rowLimit": 10000
     },
     "inputWidgets": {},
     "nuid": "ebc947f9-bf96-4728-9e17-ead7da490a4f",
     "showTitle": false,
     "title": ""
    }
   },
   "outputs": [],
   "source": [
    "cond = df_airbnb.zipcode.isin([\"1033\"])\n",
    "df = df_airbnb[cond].copy()\n",
    "\n",
    "fig = px.histogram(df, x=\"price\", color=\"zipcode\", marginal=\"rug\", hover_data=df.columns)\n",
    "fig.show()"
   ]
  },
  {
   "cell_type": "markdown",
   "metadata": {
    "application/vnd.databricks.v1+cell": {
     "cellMetadata": {},
     "inputWidgets": {},
     "nuid": "3ce3a800-0cea-481b-ad42-e9ea60af562f",
     "showTitle": false,
     "title": ""
    }
   },
   "source": [
    "We can observe that for zipcode 1033, 2 samples seems to be outliers that introduce a bias in the resulting mean price. We will drop these 2 samples (plus another sample from zipcode 1052) by including a cutoff rule for price, retaining only samples with a price lower than 5000 EUR/day."
   ]
  },
  {
   "cell_type": "markdown",
   "metadata": {
    "application/vnd.databricks.v1+cell": {
     "cellMetadata": {},
     "inputWidgets": {},
     "nuid": "cbe335fc-c604-43fe-be39-5032cfba4be3",
     "showTitle": false,
     "title": ""
    }
   },
   "source": [
    "\n",
    "# EDA kamernet data"
   ]
  },
  {
   "cell_type": "markdown",
   "metadata": {
    "application/vnd.databricks.v1+cell": {
     "cellMetadata": {},
     "inputWidgets": {},
     "nuid": "ee292be6-f197-466b-abbc-f6196594a6db",
     "showTitle": false,
     "title": ""
    }
   },
   "source": [
    "Let's have a look at how our samples are distributed over zipcodes. "
   ]
  },
  {
   "cell_type": "code",
   "execution_count": 0,
   "metadata": {
    "application/vnd.databricks.v1+cell": {
     "cellMetadata": {
      "byteLimit": 2048000,
      "rowLimit": 10000
     },
     "inputWidgets": {},
     "nuid": "2e0811ee-9102-4909-be20-3cf2592fedaa",
     "showTitle": false,
     "title": ""
    }
   },
   "outputs": [],
   "source": [
    "df = df_rentals.groupby(\"zipcode\").rent.count().reset_index().rename(columns={\"rent\": \"samples\"})\n",
    "fig = px.histogram(df, x=\"samples\", y=\"zipcode\", marginal=\"rug\", hover_data=df.columns)\n",
    "fig.show()"
   ]
  },
  {
   "cell_type": "markdown",
   "metadata": {
    "application/vnd.databricks.v1+cell": {
     "cellMetadata": {},
     "inputWidgets": {},
     "nuid": "383100c4-9bb7-49cb-b32f-d2d9662b18c1",
     "showTitle": false,
     "title": ""
    }
   },
   "source": [
    "We can see that also for the kamernet data there are a some areas that are represented by very few samples (1086, 1036, 1028). For the moment, this is not yet a concern. Let's have a closer look at the distribution of rents for kamernet data."
   ]
  },
  {
   "cell_type": "code",
   "execution_count": 0,
   "metadata": {
    "application/vnd.databricks.v1+cell": {
     "cellMetadata": {
      "byteLimit": 2048000,
      "rowLimit": 10000
     },
     "inputWidgets": {},
     "nuid": "07ed256f-98a8-4d6d-9b2a-367912a183d2",
     "showTitle": false,
     "title": ""
    }
   },
   "outputs": [],
   "source": [
    "fig = px.histogram(df_rentals, x=\"rent\", color=\"type\", marginal=\"rug\", hover_data=df_rentals.columns)\n",
    "fig.show()"
   ]
  },
  {
   "cell_type": "markdown",
   "metadata": {
    "application/vnd.databricks.v1+cell": {
     "cellMetadata": {},
     "inputWidgets": {},
     "nuid": "6c2b061e-3ff8-49b1-b12a-52a277cfa97e",
     "showTitle": false,
     "title": ""
    }
   },
   "source": [
    "For kamernet data, we can divide observations between studios and apartments. Studios do not have any obvious, heavey-weight outlier. Apartments, on the other hand, have quite a fee samples that distance themselves from the overall distribution. Let's have a closer look at the data."
   ]
  },
  {
   "cell_type": "code",
   "execution_count": 0,
   "metadata": {
    "application/vnd.databricks.v1+cell": {
     "cellMetadata": {
      "byteLimit": 2048000,
      "rowLimit": 10000
     },
     "inputWidgets": {},
     "nuid": "bb84c7c5-44b0-4227-b530-b0cf5d7eb98d",
     "showTitle": false,
     "title": ""
    }
   },
   "outputs": [],
   "source": [
    "cond = df_rentals.type == \"Studio\"\n",
    "df = df_rentals[cond].groupby(\"zipcode\").rent.mean().reset_index()\n",
    "plot_amsterdam(df, \"rent\", post_codes_silver)"
   ]
  },
  {
   "cell_type": "code",
   "execution_count": 0,
   "metadata": {
    "application/vnd.databricks.v1+cell": {
     "cellMetadata": {
      "byteLimit": 2048000,
      "rowLimit": 10000
     },
     "inputWidgets": {},
     "nuid": "1a3c10b0-cda1-42e3-b3db-ac411af7e278",
     "showTitle": false,
     "title": ""
    }
   },
   "outputs": [],
   "source": [
    "cond = (df_rentals.type == \"Studio\") & (df_rentals.zipcode==\"1108\")\n",
    "df_rentals[cond]"
   ]
  },
  {
   "cell_type": "markdown",
   "metadata": {
    "application/vnd.databricks.v1+cell": {
     "cellMetadata": {},
     "inputWidgets": {},
     "nuid": "e87bee7a-b0f8-413b-86c9-174470a5d724",
     "showTitle": false,
     "title": ""
    }
   },
   "source": [
    "Although there are only 3 samples, and the average Studio rent for 1108 is higher than nearby areas, these rents are inline with the those for Apartments at 1108 and, therefore, do not cause concern for our analysis. We will keep them."
   ]
  },
  {
   "cell_type": "code",
   "execution_count": 0,
   "metadata": {
    "application/vnd.databricks.v1+cell": {
     "cellMetadata": {
      "byteLimit": 2048000,
      "rowLimit": 10000
     },
     "inputWidgets": {},
     "nuid": "b32df186-6411-4926-8a18-0e3c0a199806",
     "showTitle": false,
     "title": ""
    }
   },
   "outputs": [],
   "source": [
    "cond = df_rentals.type == \"Apartment\"\n",
    "df = df_rentals[cond].groupby(\"zipcode\").rent.mean().reset_index()\n",
    "plot_amsterdam(df, \"rent\", post_codes_silver)"
   ]
  },
  {
   "cell_type": "markdown",
   "metadata": {
    "application/vnd.databricks.v1+cell": {
     "cellMetadata": {},
     "inputWidgets": {},
     "nuid": "7c16184b-ef7c-4f27-8e24-343640bdae3b",
     "showTitle": false,
     "title": ""
    }
   },
   "source": [
    "We have found a couple of zipcodes with unusually higher prices with respect to nearby areas, 1086 and 1028. Let's have a closer look at these. "
   ]
  },
  {
   "cell_type": "code",
   "execution_count": 0,
   "metadata": {
    "application/vnd.databricks.v1+cell": {
     "cellMetadata": {
      "byteLimit": 2048000,
      "rowLimit": 10000
     },
     "inputWidgets": {},
     "nuid": "5ef1b81f-9c76-435a-8c9c-75fdb2afb866",
     "showTitle": false,
     "title": ""
    }
   },
   "outputs": [],
   "source": [
    "cond = df_rentals.zipcode.isin([\"1028\", \"1086\"])\n",
    "df = df_rentals[cond].copy()\n",
    "\n",
    "fig = px.histogram(df, x=\"rent\", color=\"zipcode\", marginal=\"rug\", hover_data=df.columns)\n",
    "fig.show()"
   ]
  },
  {
   "cell_type": "markdown",
   "metadata": {
    "application/vnd.databricks.v1+cell": {
     "cellMetadata": {},
     "inputWidgets": {},
     "nuid": "b28ee108-e135-4efa-a9ec-be8cff4fa166",
     "showTitle": false,
     "title": ""
    }
   },
   "source": [
    "These two zipcodes with particularly high rents are represented only by one sample each and introduce a bias in the overall analysis and we should drop them in our final analysis. To ensure we apply equal critiria on both datasets, we will also drop all zicodes represented by 5 or less samples as done for the AirBnB data."
   ]
  },
  {
   "cell_type": "code",
   "execution_count": 0,
   "metadata": {
    "application/vnd.databricks.v1+cell": {
     "cellMetadata": {
      "byteLimit": 2048000,
      "rowLimit": 10000
     },
     "inputWidgets": {},
     "nuid": "89e322d7-5612-4d48-8251-73eeb99b5de9",
     "showTitle": false,
     "title": ""
    }
   },
   "outputs": [],
   "source": [
    "nsamples = df_rentals.groupby(\"zipcode\").rent.count().reset_index().rename(columns={\"rent\": \"nsamples\"})\n",
    "keep_zipcodes = nsamples[nsamples[\"nsamples\"] > 5].zipcode\n",
    "\n",
    "cond = df_rentals.zipcode.isin(keep_zipcodes) \n",
    "df = df_rentals[cond].groupby(\"zipcode\").rent.mean().reset_index()\n",
    "plot_amsterdam(df, \"rent\", post_codes_silver)"
   ]
  },
  {
   "cell_type": "code",
   "execution_count": 0,
   "metadata": {
    "application/vnd.databricks.v1+cell": {
     "cellMetadata": {},
     "inputWidgets": {},
     "nuid": "db2e288f-06d7-42ef-b785-3d8fcaf5865e",
     "showTitle": false,
     "title": ""
    }
   },
   "outputs": [],
   "source": []
  }
 ],
 "metadata": {
  "application/vnd.databricks.v1+notebook": {
   "dashboards": [],
   "language": "python",
   "notebookMetadata": {
    "mostRecentlyExecutedCommandWithImplicitDF": {
     "commandId": 1800876679925935,
     "dataframes": [
      "_sqldf"
     ]
    },
    "pythonIndentUnit": 4
   },
   "notebookName": "EDA",
   "widgets": {}
  }
 },
 "nbformat": 4,
 "nbformat_minor": 0
}

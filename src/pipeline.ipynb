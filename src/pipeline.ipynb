{
 "cells": [
  {
   "cell_type": "markdown",
   "metadata": {
    "application/vnd.databricks.v1+cell": {
     "cellMetadata": {
      "byteLimit": 2048000,
      "rowLimit": 10000
     },
     "inputWidgets": {},
     "nuid": "1b534002-1fd9-4562-ba41-2fc1fb54f529",
     "showTitle": false,
     "title": ""
    }
   },
   "source": [
    "\n",
    "# Install revo package"
   ]
  },
  {
   "cell_type": "code",
   "execution_count": 0,
   "metadata": {
    "application/vnd.databricks.v1+cell": {
     "cellMetadata": {
      "byteLimit": 2048000,
      "rowLimit": 10000
     },
     "inputWidgets": {},
     "nuid": "b2bd9103-d58f-45e6-ace0-c56a00a15a1b",
     "showTitle": false,
     "title": ""
    }
   },
   "outputs": [],
   "source": [
    "%sh rm -rf ~/projects/revodataassignment &&\n",
    "    git clone --single-branch --branch setup-repo https://github.com/gvalentini85/assessment-rent-airbnb.git ~/projects/revodataassignment &&\n",
    "    cd ~/projects/revodataassignment &&\n",
    "    python -m pip install --upgrade pip &&\n",
    "    pip install -r requirements.txt &&\n",
    "    python setup.py sdist &&\n",
    "    pip install dist/revo-0.0.1.tar.gz &&\n",
    "    cd data/ &&\n",
    "    unzip airbnb.zip &&\n",
    "    unzip rentals.zip &&\n",
    "    unzip geo/post_codes.zip &&\n",
    "    cp airbnb.csv rentals.json post_codes.geojson /databricks/driver/"
   ]
  },
  {
   "cell_type": "markdown",
   "metadata": {
    "application/vnd.databricks.v1+cell": {
     "cellMetadata": {
      "byteLimit": 2048000,
      "rowLimit": 10000
     },
     "inputWidgets": {},
     "nuid": "a1e70bf2-fd79-40f7-a0ca-2d0ca39d7bbc",
     "showTitle": false,
     "title": ""
    }
   },
   "source": [
    "\n",
    "# Load bronze layer data"
   ]
  },
  {
   "cell_type": "code",
   "execution_count": 0,
   "metadata": {
    "application/vnd.databricks.v1+cell": {
     "cellMetadata": {
      "byteLimit": 2048000,
      "rowLimit": 10000
     },
     "inputWidgets": {},
     "nuid": "42798954-08ba-4c34-b3f6-dbae91e6ff9b",
     "showTitle": false,
     "title": ""
    }
   },
   "outputs": [],
   "source": [
    "import os\n",
    "from revo.data_loader import DataLoader\n",
    "\n",
    "dl_airbnb = DataLoader(f\"file:{os.getcwd()}/airbnb.csv\")\n",
    "dl_rentals = DataLoader(f\"file:{os.getcwd()}/rentals.json\")\n",
    "dl_post_codes = DataLoader(f\"file:{os.getcwd()}/post_codes.geojson\")\n",
    "\n",
    "df_airbnb_bronze = dl_airbnb.load_data()\n",
    "df_rentals_bronze = dl_rentals.load_data()\n",
    "df_post_codes_bronze = dl_post_codes.load_data()"
   ]
  },
  {
   "cell_type": "markdown",
   "metadata": {
    "application/vnd.databricks.v1+cell": {
     "cellMetadata": {
      "byteLimit": 2048000,
      "rowLimit": 10000
     },
     "inputWidgets": {},
     "nuid": "154224c2-a21d-423d-82e9-4597f2a28724",
     "showTitle": false,
     "title": ""
    }
   },
   "source": [
    "\n",
    "# Generate silver and gold layer data"
   ]
  },
  {
   "cell_type": "code",
   "execution_count": 0,
   "metadata": {
    "application/vnd.databricks.v1+cell": {
     "cellMetadata": {
      "byteLimit": 2048000,
      "rowLimit": 10000
     },
     "inputWidgets": {},
     "nuid": "3f7d9107-ea5f-4bda-93d8-5d951bad8f1c",
     "showTitle": false,
     "title": ""
    }
   },
   "outputs": [],
   "source": [
    "from revo.data_processor import DataProcessor\n",
    "\n",
    "dp = DataProcessor(airbnb_occupancy_rate=0.7)\n",
    "\n",
    "post_codes_silver, amsterdam_codes = dp.clean_post_codes(df_post_codes_bronze)\n",
    "df_airbnb_silver = dp.clean_airbnb(df_airbnb_bronze, amsterdam_codes, post_codes_silver)\n",
    "df_rentals_silver = dp.clean_rentals(df_rentals_bronze, amsterdam_codes)\n",
    "df_prices = dp.aggregate_data()\n",
    "df_avg_prices = dp.compute_average_by_zipcode()\n",
    "\n",
    "df_airbnb_silver.show(5)\n",
    "df_rentals_silver.show(5)\n",
    "df_prices.show(5)\n",
    "df_avg_prices.show(5)"
   ]
  },
  {
   "cell_type": "markdown",
   "metadata": {
    "application/vnd.databricks.v1+cell": {
     "cellMetadata": {
      "byteLimit": 2048000,
      "rowLimit": 10000
     },
     "inputWidgets": {},
     "nuid": "f6a8dbc8-5930-4fb6-b9a7-95b327565498",
     "showTitle": false,
     "title": ""
    }
   },
   "source": [
    "\n",
    "# Perform the analysis and visualize results"
   ]
  },
  {
   "cell_type": "code",
   "execution_count": 0,
   "metadata": {
    "application/vnd.databricks.v1+cell": {
     "cellMetadata": {
      "byteLimit": 2048000,
      "rowLimit": 10000
     },
     "inputWidgets": {},
     "nuid": "9dee8294-823f-484c-80dd-0a6921c0c562",
     "showTitle": false,
     "title": ""
    }
   },
   "outputs": [],
   "source": [
    "df_prices = df_prices.toPandas()\n",
    "df_avg_prices = df_avg_prices.toPandas()\n",
    "df_avg_prices_airbnb = df_avg_prices[df_avg_prices.source == \"airbnb\"].copy()\n",
    "df_avg_prices_kamernet = df_avg_prices[df_avg_prices.source == \"kamernet\"].copy()"
   ]
  },
  {
   "cell_type": "markdown",
   "metadata": {
    "application/vnd.databricks.v1+cell": {
     "cellMetadata": {
      "byteLimit": 2048000,
      "rowLimit": 10000
     },
     "inputWidgets": {},
     "nuid": "02af0e6d-8638-423b-b571-302f837d4a30",
     "showTitle": false,
     "title": ""
    }
   },
   "source": [
    "Let's have a look at the average monthly prices for AirBnB and kamernet data after removing outliers."
   ]
  },
  {
   "cell_type": "code",
   "execution_count": 0,
   "metadata": {
    "application/vnd.databricks.v1+cell": {
     "cellMetadata": {
      "byteLimit": 2048000,
      "rowLimit": 10000
     },
     "inputWidgets": {},
     "nuid": "7babc6f7-009a-4c2b-a7df-bfe44be12e38",
     "showTitle": false,
     "title": ""
    }
   },
   "outputs": [],
   "source": [
    "import plotly.express as px\n",
    "\n",
    "cond = df_avg_prices.source == \"airbnb\"\n",
    "fig = px.bar(df_avg_prices[cond].sort_values(\"avg_monthly_price\"), x=\"zipcode\", y=\"avg_monthly_price\", color=\"source\", barmode=\"group\", height=400)\n",
    "fig.show()"
   ]
  },
  {
   "cell_type": "code",
   "execution_count": 0,
   "metadata": {
    "application/vnd.databricks.v1+cell": {
     "cellMetadata": {
      "byteLimit": 2048000,
      "rowLimit": 10000
     },
     "inputWidgets": {},
     "nuid": "9afeadde-2790-405e-877f-590688aab568",
     "showTitle": false,
     "title": ""
    }
   },
   "outputs": [],
   "source": [
    "from revo.data_visualization.plot_amsterdam import plot_amsterdam\n",
    "\n",
    "plot_amsterdam(df_avg_prices_airbnb, \"avg_monthly_price\", post_codes_silver)"
   ]
  },
  {
   "cell_type": "markdown",
   "metadata": {
    "application/vnd.databricks.v1+cell": {
     "cellMetadata": {},
     "inputWidgets": {},
     "nuid": "2abe2c80-f737-4038-a78c-2ebf207ea638",
     "showTitle": false,
     "title": ""
    }
   },
   "source": [
    "We select the 10 most profitable zipcodes from the AirBnB data:"
   ]
  },
  {
   "cell_type": "code",
   "execution_count": 0,
   "metadata": {
    "application/vnd.databricks.v1+cell": {
     "cellMetadata": {
      "byteLimit": 2048000,
      "rowLimit": 10000
     },
     "inputWidgets": {},
     "nuid": "91108a8b-697c-4263-bcd9-fcbc41f6c4f1",
     "showTitle": false,
     "title": ""
    }
   },
   "outputs": [],
   "source": [
    "cond = df_avg_prices.source == \"airbnb\"\n",
    "airbnb_zipcodes = df_avg_prices[cond].sort_values(\"avg_monthly_price\", ascending=False).head(10)[\"zipcode\"]\n",
    "df_avg_prices[cond].sort_values(\"avg_monthly_price\", ascending=False).head(10)"
   ]
  },
  {
   "cell_type": "markdown",
   "metadata": {
    "application/vnd.databricks.v1+cell": {
     "cellMetadata": {
      "byteLimit": 2048000,
      "rowLimit": 10000
     },
     "inputWidgets": {},
     "nuid": "cde33b14-ed02-4920-b4d5-81848ac7dfcd",
     "showTitle": false,
     "title": ""
    }
   },
   "source": [
    "\n",
    "## Select zipcodes for kamernet"
   ]
  },
  {
   "cell_type": "code",
   "execution_count": 0,
   "metadata": {
    "application/vnd.databricks.v1+cell": {
     "cellMetadata": {
      "byteLimit": 2048000,
      "rowLimit": 10000
     },
     "inputWidgets": {},
     "nuid": "d10b302d-c755-405b-b0f2-c7732beb0f33",
     "showTitle": false,
     "title": ""
    }
   },
   "outputs": [],
   "source": [
    "cond = df_avg_prices.source == \"kamernet\"\n",
    "fig = px.bar(df_avg_prices[cond].sort_values(\"avg_monthly_price\"), x=\"zipcode\", y=\"avg_daily_price\", color=\"source\", barmode=\"group\", height=400)\n",
    "fig.show()"
   ]
  },
  {
   "cell_type": "code",
   "execution_count": 0,
   "metadata": {
    "application/vnd.databricks.v1+cell": {
     "cellMetadata": {
      "byteLimit": 2048000,
      "rowLimit": 10000
     },
     "inputWidgets": {},
     "nuid": "f8ed444c-2135-462b-ab8e-111b96993e05",
     "showTitle": false,
     "title": ""
    }
   },
   "outputs": [],
   "source": [
    "plot_amsterdam(df_avg_prices_kamernet, \"avg_monthly_price\", post_codes_silver)"
   ]
  },
  {
   "cell_type": "markdown",
   "metadata": {
    "application/vnd.databricks.v1+cell": {
     "cellMetadata": {},
     "inputWidgets": {},
     "nuid": "b8fe1658-3955-4738-92c3-eb0c5e52978d",
     "showTitle": false,
     "title": ""
    }
   },
   "source": [
    "We select the 10 most profitable zipcodes from the kamernet data"
   ]
  },
  {
   "cell_type": "code",
   "execution_count": 0,
   "metadata": {
    "application/vnd.databricks.v1+cell": {
     "cellMetadata": {
      "byteLimit": 2048000,
      "rowLimit": 10000
     },
     "inputWidgets": {},
     "nuid": "49756264-86eb-4464-a05d-4e0a229a5dea",
     "showTitle": false,
     "title": ""
    }
   },
   "outputs": [],
   "source": [
    "cond = df_avg_prices.source == \"kamernet\"\n",
    "kamernet_zipcodes = df_avg_prices[cond].sort_values(\"avg_monthly_price\", ascending=False).head(10)[\"zipcode\"]\n",
    "df_avg_prices[cond].sort_values(\"avg_monthly_price\", ascending=False).head(10)"
   ]
  },
  {
   "cell_type": "markdown",
   "metadata": {
    "application/vnd.databricks.v1+cell": {
     "cellMetadata": {
      "byteLimit": 2048000,
      "rowLimit": 10000
     },
     "inputWidgets": {},
     "nuid": "5ff5d2ef-6c21-4806-94a2-712b7081f64f",
     "showTitle": false,
     "title": ""
    }
   },
   "source": [
    "\n",
    "## Select between Airbnb and kamernet"
   ]
  },
  {
   "cell_type": "markdown",
   "metadata": {
    "application/vnd.databricks.v1+cell": {
     "cellMetadata": {},
     "inputWidgets": {},
     "nuid": "bed5b8d8-b703-492c-aba9-adf754e6ad9e",
     "showTitle": false,
     "title": ""
    }
   },
   "source": [
    "Finally, after selecting zipcodes, let's have a look at which areas are more profitable to rent on AirBnB with respect to Kamernet:"
   ]
  },
  {
   "cell_type": "code",
   "execution_count": 0,
   "metadata": {
    "application/vnd.databricks.v1+cell": {
     "cellMetadata": {
      "byteLimit": 2048000,
      "rowLimit": 10000
     },
     "inputWidgets": {},
     "nuid": "f6bc8490-764a-4d5a-8cf0-713307263775",
     "showTitle": false,
     "title": ""
    }
   },
   "outputs": [],
   "source": [
    "fig = px.bar(df_avg_prices, x=\"zipcode\", y=\"avg_daily_price\", color=\"source\", barmode=\"group\", height=400)\n",
    "fig.show()"
   ]
  },
  {
   "cell_type": "markdown",
   "metadata": {
    "application/vnd.databricks.v1+cell": {
     "cellMetadata": {
      "byteLimit": 2048000,
      "rowLimit": 10000
     },
     "inputWidgets": {},
     "nuid": "55400b6e-ec2d-4001-8eb3-af22424fed15",
     "showTitle": false,
     "title": ""
    }
   },
   "source": [
    "As we can se from the plot above, renting through AirBnB is considerably more profitable than through Kamernet. This result remains essentially the same even when further lowering the occupancy rate of AirBnB rentals below 70% and when removing studios from the Kamernet data. More factors should be considered before making a final decision (e.g., cost of cleaning agency if renting through AirBnB)."
   ]
  },
  {
   "cell_type": "code",
   "execution_count": 0,
   "metadata": {
    "application/vnd.databricks.v1+cell": {
     "cellMetadata": {
      "byteLimit": 2048000,
      "rowLimit": 10000
     },
     "inputWidgets": {},
     "nuid": "5af41c46-3d28-48b3-acbe-fe9b19c1147f",
     "showTitle": false,
     "title": ""
    }
   },
   "outputs": [],
   "source": []
  }
 ],
 "metadata": {
  "application/vnd.databricks.v1+notebook": {
   "dashboards": [],
   "language": "python",
   "notebookMetadata": {
    "mostRecentlyExecutedCommandWithImplicitDF": {
     "commandId": 3270534414254323,
     "dataframes": [
      "_sqldf"
     ]
    },
    "pythonIndentUnit": 4
   },
   "notebookName": "pipeline",
   "widgets": {}
  }
 },
 "nbformat": 4,
 "nbformat_minor": 0
}
